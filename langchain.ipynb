{
 "cells": [
  {
   "cell_type": "code",
   "execution_count": null,
   "id": "a2701978",
   "metadata": {},
   "outputs": [
    {
     "name": "stdout",
     "output_type": "stream",
     "text": [
      "Sending request to Groq...\n",
      "\n",
      "--- RESPONSE FROM GROQ (LLAMA 3) ---\n",
      "The capital of Nepal is Kathmandu. Kathmandu is famous for its rich cultural heritage, historical landmarks, and natural beauty. Some of the top attractions in Kathmandu include:\n",
      "\n",
      "1. Boudhanath Stupa: A UNESCO World Heritage Site and one of the largest Buddhist stupas in the world.\n",
      "2. Pashupatinath Temple: A sacred Hindu temple dedicated to Lord Shiva, located on the banks of the Bagmati River.\n",
      "3. Kathmandu Durbar Square: A historic square filled with temples, palaces, and courtyards, which is a UNESCO World Heritage Site.\n",
      "4. Thamel: A popular tourist district known for its street food, cafes, and shopping.\n",
      "5. Swayambhunath Temple: A Buddhist temple also known as the \"Monkey Temple\" due to the large number of monkeys living in the area.\n",
      "6. Patan Durbar Square: A historic square filled with temples, palaces, and courtyards, located in the city of Patan, which is just outside of Kathmandu.\n",
      "7. Bhaktapur Durbar Square: A historic square filled with temples, palaces, and courtyards, located in the city of Bhaktapur, which is a UNESCO World Heritage Site.\n",
      "\n",
      "Kathmandu is also known for its vibrant nightlife, with many bars, clubs, and live music venues.\n",
      "-----------------------------------\n"
     ]
    }
   ],
   "source": [
    "import os\n",
    "from langchain_groq import ChatGroq\n",
    "\n",
    "# --- Step 3 is here: Put your new Groq API Key in this line ---\n",
    "os.environ['GROQ_API_KEY'] = \"PUT_YOUR_GROQ_API_KEY_HERE\"\n",
    "# Safety check\n",
    "if os.environ.get(\"GROQ_API_KEY\") == \"PUT_YOUR_GROQ_API_KEY_HERE\":\n",
    "    raise ValueError(\"Please replace the placeholder with your real Groq API key.\")\n",
    "\n",
    "# Initialize the model (using Llama 3, which is very fast on Groq)\n",
    "llm = ChatGroq(\n",
    "    model=\"llama3-8b-8192\",\n",
    "    temperature=0.7\n",
    ")\n",
    "\n",
    "# Use the model\n",
    "prompt = \"What is the capital of Nepal, and what is it famous for?\"\n",
    "\n",
    "print(\"Sending request to Groq...\")\n",
    "response = llm.invoke(prompt)\n",
    "\n",
    "print(\"\\n--- RESPONSE FROM GROQ (LLAMA 3) ---\")\n",
    "print(response.content)\n",
    "print(\"-----------------------------------\")"
   ]
  },
  {
   "cell_type": "code",
   "execution_count": 7,
   "id": "3ef282fa",
   "metadata": {},
   "outputs": [
    {
     "name": "stdout",
     "output_type": "stream",
     "text": [
      "Congratulations on your decision to open an Indian restaurant! Here are some fancy name suggestions for you:\n",
      "\n",
      "1. **Tandoor Royale**: \"Tandoor\" is a traditional Indian clay oven, and \"Royale\" adds a touch of luxury.\n",
      "2. **Spice Route Bazaar**: This name evokes the exotic flavors and aromas of the Spice Route, a historic trade route that connected India to the world.\n",
      "3. **Mumbai Mosaic**: \"Mumbai\" is the financial capital of India, and \"Mosaic\" suggests a vibrant, eclectic blend of flavors and cultures.\n",
      "4. **Saffron & Silk**: Saffron is a prized spice in Indian cuisine, and \"Silk\" adds a luxurious, high-end feel.\n",
      "5. **Dhaba 360**: A \"dhaba\" is a traditional Indian roadside eatery, and \"360\" suggests a modern, all-encompassing dining experience.\n",
      "6. **Garam Masala Grill**: \"Garam Masala\" is a blend of warming spices, and \"Grill\" implies a modern, trendy twist on traditional Indian cuisine.\n",
      "7. **Biryani Bliss**: Biryani is a popular Indian rice dish, and \"Bliss\" conveys a sense of indulgence and satisfaction.\n",
      "8. **Chutney Club**: \"Chutney\" is a condiment commonly used in Indian cuisine, and \"Club\" implies a sophisticated, members-only experience.\n",
      "9. **Tamarind Table**: \"Tamarind\" is a sour and tangy fruit used in many Indian recipes, and \"Table\" emphasizes the communal aspect of dining.\n",
      "10. **Rajputana Restaurant**: \"Rajputana\" refers to the region of Rajasthan in northwestern India, known for its rich cultural heritage and culinary traditions.\n",
      "\n",
      "I hope one of these names inspires you and helps you establish your brand identity!\n"
     ]
    }
   ],
   "source": [
    "# First, define your prompt\n",
    "prompt = \"I want to open a restaurant for Indian food. Suggest a fency name for this.\"\n",
    "\n",
    "# Then, use the .invoke() method to run it\n",
    "response = llm.invoke(prompt)\n",
    "\n",
    "# Finally, print the content of the response\n",
    "print(response.content)"
   ]
  },
  {
   "cell_type": "markdown",
   "id": "97110a88",
   "metadata": {},
   "source": [
    "Prompt Templates"
   ]
  },
  {
   "cell_type": "code",
   "execution_count": 9,
   "id": "e94dacf4",
   "metadata": {},
   "outputs": [
    {
     "name": "stdout",
     "output_type": "stream",
     "text": [
      "I want to open a restaurant for Italian food. Suggest a fency name for this.\n"
     ]
    },
    {
     "name": "stderr",
     "output_type": "stream",
     "text": [
      "C:\\Users\\rg967\\AppData\\Local\\Temp\\ipykernel_43500\\2791657630.py:10: LangChainDeprecationWarning: The method `BaseChatModel.predict` was deprecated in langchain-core 0.1.7 and will be removed in 1.0. Use :meth:`~invoke` instead.\n",
      "  print(llm.predict(p))\n"
     ]
    },
    {
     "name": "stdout",
     "output_type": "stream",
     "text": [
      "Buon appetito! Congratulations on your new restaurant venture! Here are some fancy name suggestions for your Italian restaurant:\n",
      "\n",
      "1. **Bella Vita** (Beautiful Life) - a nod to the Italian phrase \"la bella vita\" and the idea of enjoying life through good food.\n",
      "2. **Tuscan Oasis** - evoking the rich flavors and aromas of Tuscany, with a hint of exoticism.\n",
      "3. **La Dolce Vita** (The Sweet Life) - another play on the Italian phrase, emphasizing the pleasure of savoring delicious food and wine.\n",
      "4. **Casa Bella** (Beautiful House) - a warm and inviting name that suggests a cozy, welcoming atmosphere.\n",
      "5. **Fiamma & Co.** (Flame & Co.) - a nod to the passion and energy of Italian cooking, with a modern twist.\n",
      "6. **Bistro Italiano** - a simple, elegant name that conveys sophistication and a focus on Italian cuisine.\n",
      "7. **La Trattoria** - a traditional name that references the classic Italian tavern or restaurant.\n",
      "8. **Vino & Vita** (Wine & Life) - a name that combines the pleasures of wine and good living.\n",
      "9. **Cucina Italiana** (Italian Kitchen) - a name that emphasizes the authenticity and passion of Italian cooking.\n",
      "10. **Piazza Italiano** - a name that evokes the vibrant, bustling atmosphere of an Italian piazza.\n",
      "\n",
      "Choose the one that resonates with your vision and style, and buon fortuna (good luck) with your new restaurant!\n"
     ]
    }
   ],
   "source": [
    "from langchain.prompts import PromptTemplate\n",
    "\n",
    "prompt_template_name = PromptTemplate(\n",
    "    input_variables =['cuisine'],\n",
    "    template = \"I want to open a restaurant for {cuisine} food. Suggest a fency name for this.\"\n",
    ")\n",
    "p = prompt_template_name.format(cuisine=\"Italian\")\n",
    "print(p)\n",
    "\n",
    "print(llm.predict(p))"
   ]
  },
  {
   "cell_type": "markdown",
   "id": "47ed0c06",
   "metadata": {},
   "source": [
    "CHAINS"
   ]
  },
  {
   "cell_type": "code",
   "execution_count": 11,
   "id": "956f9d6e",
   "metadata": {},
   "outputs": [],
   "source": [
    "from langchain.chains import LLMChain"
   ]
  },
  {
   "cell_type": "code",
   "execution_count": 12,
   "id": "370ca446",
   "metadata": {},
   "outputs": [
    {
     "name": "stderr",
     "output_type": "stream",
     "text": [
      "C:\\Users\\rg967\\AppData\\Local\\Temp\\ipykernel_43500\\3919724017.py:1: LangChainDeprecationWarning: The class `LLMChain` was deprecated in LangChain 0.1.17 and will be removed in 1.0. Use :meth:`~RunnableSequence, e.g., `prompt | llm`` instead.\n",
      "  chain = LLMChain(llm=llm, prompt=prompt_template_name)\n",
      "C:\\Users\\rg967\\AppData\\Local\\Temp\\ipykernel_43500\\3919724017.py:2: LangChainDeprecationWarning: The method `Chain.run` was deprecated in langchain 0.1.0 and will be removed in 1.0. Use :meth:`~invoke` instead.\n",
      "  chain.run(\"Mexican\")\n"
     ]
    },
    {
     "data": {
      "text/plain": [
       "\"¡Hola! I'd be delighted to help you with a fancy name for your Mexican restaurant. Here are some suggestions:\\n\\n1. **Azul y Oro** (Blue and Gold) - a nod to Mexico's rich cultural heritage and the vibrant colors of its flag.\\n2. **El Patio de la Luna** (The Courtyard of the Moon) - evoking the warm, cozy atmosphere of a traditional Mexican courtyard.\\n3. **La Casa de las Mariposas** (The House of Butterflies) - a whimsical name that captures the beauty and spirit of Mexico's natural world.\\n4. **Viva la Vida** (Long Live Life) - a playful name that reflects the lively, festive atmosphere of Mexican culture.\\n5. **El Jardín de los Dioses** (The Garden of the Gods) - a name that conjures up images of a lush, vibrant oasis, inspired by Mexico's rich mythology.\\n6. **Casa Mexicana** (Mexican House) - a simple, elegant name that proudly declares your restaurant's culinary heritage.\\n7. **El Sol de la Noche** (The Sun of the Night) - a name that references the warmth and light of Mexican cuisine, even in the evening hours.\\n8. **La Cocina de la Abuela** (Grandma's Kitchen) - a heartwarming name that invites customers to experience the warmth and love of traditional Mexican cooking.\\n9. **El Lugar de los Sueños** (The Place of Dreams) - a name that suggests a magical, dreamlike experience for diners.\\n10. **La Fiesta Mexicana** (The Mexican Party) - a name that promises a lively, festive atmosphere, perfect for a restaurant that celebrates Mexican culture.\\n\\nI hope one of these names strikes a chord with you!\""
      ]
     },
     "execution_count": 12,
     "metadata": {},
     "output_type": "execute_result"
    }
   ],
   "source": [
    "chain = LLMChain(llm=llm, prompt=prompt_template_name)\n",
    "chain.run(\"Mexican\")"
   ]
  },
  {
   "cell_type": "markdown",
   "id": "163262b3",
   "metadata": {},
   "source": [
    "Simple Sequential Chain"
   ]
  },
  {
   "cell_type": "code",
   "execution_count": 13,
   "id": "3ab3cd41",
   "metadata": {},
   "outputs": [
    {
     "name": "stdout",
     "output_type": "stream",
     "text": [
      "\n",
      "\n",
      "\u001b[1m> Entering new SimpleSequentialChain chain...\u001b[0m\n",
      "\u001b[36;1m\u001b[1;3mWhat a great question! Here are some fancy name suggestions for a Modern Indian restaurant:\n",
      "\n",
      "1. **Maharaja's Table**: This name pays homage to the rich history of Indian cuisine while emphasizing the modern twist.\n",
      "2. **Dhruvati**: Inspired by the Sanskrit word for \"star\" or \" celestial body,\" this name adds a touch of elegance and sophistication.\n",
      "3. **Tamarind Tree**: Tamarind is a popular Indian ingredient, and \"Tree\" suggests a sense of growth and abundance.\n",
      "4. **Rajwada**: This name means \"princely estate\" in Hindi, evoking a sense of luxury and refinement.\n",
      "5. **Mumbai Mosaic**: This name celebrates the diverse culinary heritage of Mumbai, India's financial capital, and implies a modern, eclectic approach.\n",
      "6. **Saffron & Silk**: Saffron is a prized Indian spice, and \"Silk\" adds a sense of luxury and opulence.\n",
      "7. **Spice Route**: This name references the ancient trade routes that connected India to the world, while also highlighting the rich flavors of Indian cuisine.\n",
      "8. **Garam Masala**: This name references the popular Indian spice blend, while also implying a warm, inviting atmosphere.\n",
      "9. **Nirvana Bites**: This name references the concept of enlightenment in Hinduism, while also emphasizing the delicious, bite-sized nature of the cuisine.\n",
      "10. **Aahar**: This name means \"food\" or \"nourishment\" in Hindi, making it a simple yet elegant choice for a Modern Indian restaurant.\n",
      "\n",
      "I hope one of these names sparks your interest and helps you establish a successful restaurant!\u001b[0m\n",
      "\u001b[33;1m\u001b[1;3mHere's a catchy, one-sentence menu description that incorporates one of the fancy name suggestions:\n",
      "\n",
      "\"Savor the celestial fusion of flavors at Dhruvati, where our expert chefs weave a tapestry of traditional Indian spices and modern twists to transport your taste buds to a starry night in the subcontinent.\"\n",
      "\n",
      "Let me know if you'd like me to come up with alternative menu descriptions for any of the other name suggestions!\u001b[0m\n",
      "\n",
      "\u001b[1m> Finished chain.\u001b[0m\n",
      "\n",
      "--- FINAL RESULT ---\n",
      "Here's a catchy, one-sentence menu description that incorporates one of the fancy name suggestions:\n",
      "\n",
      "\"Savor the celestial fusion of flavors at Dhruvati, where our expert chefs weave a tapestry of traditional Indian spices and modern twists to transport your taste buds to a starry night in the subcontinent.\"\n",
      "\n",
      "Let me know if you'd like me to come up with alternative menu descriptions for any of the other name suggestions!\n"
     ]
    }
   ],
   "source": [
    "\n",
    "from langchain.chains import LLMChain, SimpleSequentialChain\n",
    "# --- Chain 1: Name Generator ---\n",
    "prompt_name = PromptTemplate(\n",
    "    input_variables=[\"cuisine\"],\n",
    "    template=\"Suggest a fancy name for a restaurant that serves {cuisine} food.\"\n",
    ")\n",
    "# LLMChain is the legacy way of combining a prompt and an LLM\n",
    "name_chain = LLMChain(llm=llm, prompt=prompt_name)\n",
    "\n",
    "# --- Chain 2: Description Generator ---\n",
    "prompt_description = PromptTemplate(\n",
    "    input_variables=[\"restaurant_name\"],\n",
    "    template=\"Write a catchy, one-sentence menu description for a restaurant called '{restaurant_name}'.\"\n",
    ")\n",
    "description_chain = LLMChain(llm=llm, prompt=prompt_description)\n",
    "\n",
    "# --- Combine them with SimpleSequentialChain ---\n",
    "# We provide the chains in the exact order of execution.\n",
    "# verbose=True lets us see the intermediate steps.\n",
    "overall_chain = SimpleSequentialChain(\n",
    "    chains=[name_chain, description_chain],\n",
    "    verbose=True\n",
    ")\n",
    "\n",
    "# --- Run the chain ---\n",
    "# The legacy .run() method is used here\n",
    "final_description = overall_chain.run(\"Modern Indian\")\n",
    "\n",
    "print(\"\\n--- FINAL RESULT ---\")\n",
    "print(final_description)"
   ]
  },
  {
   "cell_type": "code",
   "execution_count": 14,
   "id": "139f1a98",
   "metadata": {},
   "outputs": [],
   "source": [
    "prompt_template_name = PromptTemplate(\n",
    "    input_variables =['cuisine'],\n",
    "    template = \"I want to open a restaurant for {cuisine} food. Suggest a fency name for this.\"\n",
    ")\n",
    "\n",
    "name_chain =LLMChain(llm=llm, prompt=prompt_template_name)\n",
    "\n",
    "prompt_template_items = PromptTemplate(\n",
    "    input_variables = ['restaurant_name'],\n",
    "    template=\"\"\"Suggest some menu items for {restaurant_name}\"\"\"\n",
    ")\n",
    "\n",
    "food_items_chain = LLMChain(llm=llm, prompt=prompt_template_items)"
   ]
  },
  {
   "cell_type": "code",
   "execution_count": 15,
   "id": "ad5296f9",
   "metadata": {},
   "outputs": [
    {
     "name": "stdout",
     "output_type": "stream",
     "text": [
      "What a fantastic selection of names! Now, let's get to the menu items! Here are some suggestions to complement the grandeur and opulence of the Maharaja's Culinary Palace:\n",
      "\n",
      "**Appetizers**\n",
      "\n",
      "1. **Royal Bruschetta**: Grilled naan bread topped with spiced avocado, mango chutney, and crispy onions.\n",
      "2. **Tandoori Tamarind Shrimp**: Succulent shrimp marinated in a blend of spices and yogurt, grilled to perfection.\n",
      "3. **Garam Masala Samosas**: Crispy fried or baked pastries filled with spiced potatoes, peas, and onions, served with a tangy tamarind chutney.\n",
      "\n",
      "**Main Course**\n",
      "\n",
      "1. **Maharaja's Mixed Grill**: A selection of marinated meats (chicken, lamb, beef) grilled to perfection and served with basmati rice and naan bread.\n",
      "2. **Palace Butter Chicken**: Tender chicken cooked in a rich, creamy tomato sauce, served with basmati rice and naan bread.\n",
      "3. **Veggie Vindaloo**: A spicy curry made with a variety of vegetables (bell peppers, cauliflower, potatoes) in a tangy tomato-based sauce, served with basmati rice and naan bread.\n",
      "\n",
      "**Sides**\n",
      "\n",
      "1. **Saffron Basmati Rice**: Aromatic rice cooked with saffron and cardamom, perfect for sopping up curries.\n",
      "2. **Garlic Naan Bites**: Bite-sized pieces of garlic-infused naan bread, perfect for snacking.\n",
      "3. **Raita**: A cooling yogurt-based side dish flavored with cucumber, cumin, and coriander.\n",
      "\n",
      "**Desserts**\n",
      "\n",
      "1. **Gajar Ka Halwa**: A rich, creamy carrot pudding flavored with cardamom and nuts, served warm.\n",
      "2. **Mango Lassi Cheesecake**: A creamy cheesecake infused with the flavors of mango lassi, topped with a layer of caramelized sugar.\n",
      "3. **Jalebi**: Crunchy, fermented batter fried to perfection and drizzled with honey and rosewater.\n",
      "\n",
      "**Beverages**\n",
      "\n",
      "1. **Mumbai Mule**: A twist on the classic Moscow Mule, featuring ginger beer, lime juice, and a splash of cumin-infused vodka.\n",
      "2. **Saffron Tea**: A soothing, caffeine-free tea infused with saffron and spices, perfect for winding down after a meal.\n",
      "3. **Lassi**: A refreshing yogurt-based drink flavored with salt, cumin, and coriander, served chilled.\n",
      "\n",
      "These menu items are designed to evoke the flavors and aromas of India, while also incorporating modern twists and international flavors. I hope this helps inspire your menu!\n"
     ]
    }
   ],
   "source": [
    "chain = SimpleSequentialChain(chains = [name_chain, food_items_chain])\n",
    "\n",
    "content = chain.run(\"Indian\")\n",
    "print(content)"
   ]
  },
  {
   "cell_type": "markdown",
   "id": "c2df74a1",
   "metadata": {},
   "source": [
    "Sequential chain"
   ]
  },
  {
   "cell_type": "code",
   "execution_count": 23,
   "id": "402fae3d",
   "metadata": {},
   "outputs": [
    {
     "name": "stdout",
     "output_type": "stream",
     "text": [
      "\n",
      "--- FINAL LCEL RESULT ---\n",
      "{'city': 'Jaipur', 'description': 'Jaipur, the \"Pink City\" of India, is a kaleidoscope of color and wonder, where ornate havelis and majestic forts rise from the desert sands, their intricately carved facades glistening like rubies and emeralds in the golden light of a Rajasthan sunset.', 'title': 'Here are a few options:\\n\\n1. **\"Ruby and Emerald Dreams: Unveiling the Magic of Jaipur\\'s Pink City\"**\\n2. **\"A Kaleidoscope of Wonder: Exploring Jaipur\\'s Vibrant Color and Culture\"**\\n3. **\"Suns, Sands, and Splendor: Discovering the Wonders of Jaipur\\'s Golden Light\"**\\n4. **\"The Pink City of Dreams: Uncovering Jaipur\\'s Hidden Gems and Majestic Forts\"**\\n5. **\"A Symphony of Color: Jaipur\\'s Intricate Facades and Unforgettable Landscapes\"**\\n\\nWhich one do you think captures the essence of Jaipur\\'s beauty and charm?', 'first_paragraph': 'I think option 1, **\"Ruby and Emerald Dreams: Unveiling the Magic of Jaipur\\'s Pink City\"**, captures the essence of Jaipur\\'s beauty and charm. Here\\'s a rewritten opening paragraph based on this title:\\n\\n\"Jaipur, the \\'Pink City\\' of India, is a realm of dreams where the vibrant hues of rubies and emeralds come alive in the golden light of a Rajasthan sunset. As the desert sands give way to ornate havelis and majestic forts, the intricate facades of these architectural wonders glisten like precious gemstones, beckoning visitors to immerse themselves in the magic of this enchanting city. In Jaipur, the boundaries between reality and fantasy blur, and the senses are treated to a kaleidoscope of color, sound, and scent that will leave even the most jaded traveler in awe.\"'}\n"
     ]
    }
   ],
   "source": [
    "from langchain_core.output_parsers import StrOutputParser\n",
    "from langchain_core.prompts import ChatPromptTemplate\n",
    "from langchain_core.runnables import RunnablePassthrough\n",
    "\n",
    "# --- Setup: Model and Parser ---\n",
    "llm = ChatGroq(model=\"llama3-8b-8192\", temperature=0.7)\n",
    "parser = StrOutputParser()\n",
    "\n",
    "# --- Define the three prompts ---\n",
    "prompt1 = ChatPromptTemplate.from_template(\"Write a vibrant, one-sentence description of the city of {city} in India.\")\n",
    "prompt2 = ChatPromptTemplate.from_template(\"Based on this description: '{description}', suggest a catchy blog post title about {city}.\")\n",
    "prompt3 = ChatPromptTemplate.from_template(\"Write the opening paragraph for a blog post titled '{title}', based on this summary: {description}\")\n",
    "\n",
    "# --- Build the Chain with LCEL ---\n",
    "# RunnablePassthrough.assign works like this:\n",
    "# 1. Takes the input dictionary.\n",
    "# 2. Runs the chain provided (e.g., prompt1 | llm | parser).\n",
    "# 3. Adds the output of that chain to the dictionary with the given key.\n",
    "lcel_chain = RunnablePassthrough.assign(\n",
    "    description=(prompt1 | llm | parser)\n",
    ").assign(\n",
    "    title=(prompt2 | llm | parser)\n",
    ").assign(\n",
    "    first_paragraph=(prompt3 | llm | parser)\n",
    ")\n",
    "\n",
    "# --- Invoke the modern chain ---\n",
    "result_lcel = lcel_chain.invoke({\"city\": \"Jaipur\"})\n",
    "\n",
    "print(\"\\n--- FINAL LCEL RESULT ---\")\n",
    "print(result_lcel)"
   ]
  },
  {
   "cell_type": "markdown",
   "id": "40cd1d24",
   "metadata": {},
   "source": [
    "Agents"
   ]
  },
  {
   "cell_type": "code",
   "execution_count": null,
   "id": "b31b925d",
   "metadata": {},
   "outputs": [
    {
     "name": "stdout",
     "output_type": "stream",
     "text": [
      "\n",
      "\n",
      "\u001b[1m> Entering new AgentExecutor chain...\u001b[0m\n",
      "\u001b[32;1m\u001b[1;3mThought: I need to search for recent news articles from India to find the major headlines from August 2025.\n",
      "\n",
      "Action: Search with tavily_search_results_json\n",
      "Action Input: \"major headlines India August 2025\"\u001b[0mSearch with tavily_search_results_json is not a valid tool, try one of [tavily_search_results_json].\u001b[32;1m\u001b[1;3mThought: Hmm, it seems like I need to use the tavily_search_results_json tool correctly. Let me try again.\n",
      "\n",
      "Action: Search\n",
      "Action Input: \"major headlines India August 2025\"\u001b[0mSearch is not a valid tool, try one of [tavily_search_results_json].\u001b[32;1m\u001b[1;3mThought: I think I need to use the tavily_search_results_json tool correctly. It seems like I need to input a search query, and the tool will return the search results.\n",
      "\n",
      "Action: tavily_search_results_json\n",
      "Action Input: \"major headlines India August 2025\"\u001b[0m\u001b[36;1m\u001b[1;3m[{'title': \"Top News Headlines of August 26, 2025 | 'I'm not a dictator'\", 'url': 'https://indianexpress.com/article/india/latest-news-today-live-updates-world-india-cities-news-delhi-mumbai-bengaluru-08-26-2025-news-headlines-10211599/', 'content': '21:18 (IST) 26 Aug 2025\\n\\n## India News Live Updates | ‘If we open third eye, bullies won’t be able to stand’: Union minister Shivraj Singh Chouhan warns as US tariffs set to kick in\\n\\nUnion Agriculture Minister Shivraj Singh Chouhan urges people to take a pledge to buy only made-in-India products.  \\n  \\n Read More\\n\\n20:58 (IST) 26 Aug 2025\\n\\n## India News Live Updates | Serving breakfast at Chennai school with Stalin, why Punjab CM Mann is studying Tamil Nadu’s approach [...] ## Top News Headlines of August 26, 2025 | This is the second time in as many days, Donald Trump has addressed the criticism over the federal takeover of Washington, DC, which many have termed dictatorial.\\n\\nBy: Express Web Desk \\n\\nUpdated: August 27, 2025 02:30 AM IST\\n\\nNews Today Live Updates: Get the latest news updates from India and all around the world. Stay updated with breaking news today. [...] skip to content\\n\\n English\\n தமிழ்\\n বাংলা\\n മലയാളം\\n ગુજરાતી\\n हिंदी\\n मराठी\\n Business\\n बिज़नेस\\n\\nNewsletters The Indian Express Newsletter. (Opens in new window)\\n\\n .(Opens in new window)\\n .(Opens in new window)\\n .(Opens in new window)\\n .(Opens in new window)\\n\\n# Top News Headlines of August 26, 2025 | ‘I’m not a dictator’: Trump repeats claim on second day, says he just knows how to stop crime', 'score': 0.89166987}, {'title': 'School Assembly Headlines for August 7: Top national, international ...', 'url': 'https://m.economictimes.com/news/new-updates/school-assembly-headlines-for-august-7-top-national-international-sports-and-business-updates/articleshow/123143123.cms', 'content': 'Comment\\n\\nSynopsis\\n\\nOn August 7, 2025, significant events unfolded across various sectors. India and Russia reaffirmed their commitment to defence cooperation, while the UPSC introduced an email alert system for recruitment updates. Internationally, Bangladesh scheduled elections for February 2026, and President Trump planned peace talks between Armenia and Azerbaijan.\\n\\nImage 3: School Assembly Headlines for August 7iStock', 'score': 0.8803145}, {'title': 'Latest News, Photos, Videos on August 2025 - NDTV.COM', 'url': 'https://www.ndtv.com/topic/august-2025', 'content': \"Image 101: PM Modi To Embark On 2 Day Visit To Japan | Top Headlines Of The Day: August 28, 2025 1:56    \\n\\nPM Modi To Embark On 2 Day Visit To Japan | Top Headlines Of The Day: August 28, 2025 \\n\\n       August 28, 2025\\n    \\n\\nShare\\n\\n           Twitter\\n           WhatsApp\\n           Facebook\\n           Reddit\\n           Email\\n\\n   \\nImage 102: India Pays 50% Tariffs To US | Govt Sources: 'No Need For Panic' | Top News Of August 27, 2025 23:59 [...] Image 54: PM Modi To Embark On 2 Day Visit To Japan | Top Headlines Of The Day: August 28, 2025 1:56    \\n\\nPM Modi To Embark On 2 Day Visit To Japan | Top Headlines Of The Day: August 28, 2025 \\n\\n       August 28, 2025\\n    \\n\\nShare\\n\\n           Twitter\\n           WhatsApp\\n           Facebook\\n           Reddit\\n           Email\\n\\n   \\nImage 55: India Pays 50% Tariffs To US | Govt Sources: 'No Need For Panic' | Top News Of August 27, 2025 23:59 [...] Twitter\\n           WhatsApp\\n           Facebook\\n           Reddit\\n           Email\\n\\n   \\nImage 66: Government Brings Out Bills To Oust Criminal Leaders | Top Headlines Of The Day: August 20, 2025 1:27    \\n\\nGovernment Brings Out Bills To Oust Criminal Leaders | Top Headlines Of The Day: August 20, 2025 \\n\\n       August 20, 2025\\n    \\n\\nShare\\n\\n           Twitter\\n           WhatsApp\\n           Facebook\\n           Reddit\\n           Email\", 'score': 0.8727061}]\u001b[0m\u001b[32;1m\u001b[1;3mThough I was able to successfully use the tavily_search_results_json tool to search for major headlines in India for August 2025, I noticed that the results are quite extensive and might require further filtering to extract the most relevant and major headlines.\n",
      "\n",
      "Action: Filter the results to extract the top 3-5 most relevant headlines\n",
      "\n",
      "Action Input: None (I'll manually filter the results)\n",
      "\u001b[0mFilter the results to extract the top 3-5 most relevant headlines is not a valid tool, try one of [tavily_search_results_json].\u001b[32;1m\u001b[1;3mI see what you're doing here!\n",
      "\n",
      "Let's manually filter the results to extract the top 3-5 most relevant headlines.\n",
      "\u001b[0mInvalid Format: Missing 'Action:' after 'Thought:'\u001b[32;1m\u001b[1;3mAction: Filter\n",
      "Action Input: None\n",
      "\u001b[0mFilter is not a valid tool, try one of [tavily_search_results_json].\u001b[32;1m\u001b[1;3mIt looks like I've got a bit of a challenge on my hands!\n",
      "\n",
      "Let me try again.\n",
      "\n",
      "Action: Extract top 3-5 headlines\n",
      "Action Input: None (I'll manually extract the top 3-5 headlines from the search results)\n",
      "\u001b[0mExtract top 3-5 headlines is not a valid tool, try one of [tavily_search_results_json].\u001b[32;1m\u001b[1;3mI see what's going on here! You're trying to manually filter and extract the top headlines, but the system is not allowing you to do so. That's okay! Let's try a different approach.\n",
      "\n",
      "Since we have the search results, let's manually extract the top 3-5 most relevant headlines.\n",
      "\n",
      "From the search results, I can see that the top headlines are:\n",
      "\n",
      "1. \"Top News Headlines of August 26, 2025 | 'I'm not a dictator'\": This headline seems to be about a news article featuring Union Minister Shivraj Singh Chouhan and US President Donald Trump.\n",
      "2. \"School Assembly Headlines for August 7: Top national, international ...\": This headline appears to be about a summary of significant events that occurred on August 7, 2025, including defense cooperation between India and Russia.\n",
      "3. \"PM Modi To Embark On 2 Day Visit To Japan | Top Headlines Of The Day: August 28, 2025\": This headline suggests that Indian Prime Minister Narendra Modi is planning a two-day visit to Japan.\n",
      "\n",
      "Let's take these three headlines as our top 3-5 most relevant headlines for major news in India for August 2025.\n",
      "\n",
      "Thought: I've manually extracted the top 3-5 most relevant headlines for major news in India for August 2025.\n",
      "\n",
      "Final Answer: The top 3-5 most relevant headlines for major news in India for August 2025 are:\n",
      "1. \"Top News Headlines of August 26, 2025 | 'I'm not a dictator'\"\n",
      "2. \"School Assembly Headlines for August 7: Top national, international ...\"\n",
      "3. \"PM Modi To Embark On 2 Day Visit To Japan | Top Headlines Of The Day: August 28, 2025\"\u001b[0m\n",
      "\n",
      "\u001b[1m> Finished chain.\u001b[0m\n",
      "\n",
      "--- FINAL ANSWER ---\n",
      "The top 3-5 most relevant headlines for major news in India for August 2025 are:\n",
      "1. \"Top News Headlines of August 26, 2025 | 'I'm not a dictator'\"\n",
      "2. \"School Assembly Headlines for August 7: Top national, international ...\"\n",
      "3. \"PM Modi To Embark On 2 Day Visit To Japan | Top Headlines Of The Day: August 28, 2025\"\n"
     ]
    }
   ],
   "source": [
    "from langchain_groq import ChatGroq\n",
    "from langchain.agents import AgentExecutor, create_react_agent\n",
    "from langchain_community.tools.tavily_search import TavilySearchResults\n",
    "from langchain import hub # This is the LangChain Prompt Hub\n",
    "\n",
    "# --- Step 1: Set up the Environment ---\n",
    "# Get your keys from groq.com and tavily.com and set them as environment variables\n",
    "os.environ['TAVILY_API_KEY'] = \"PUT_YOUR_TAVILY_API_KEY_HERE\"\n",
    "\n",
    "# --- Step 2: The LLM (The \"Brain\") ---\n",
    "# We'll use the fast Groq Llama3 model as the agent's reasoning engine\n",
    "\n",
    "# --- Step 3: The Tools (The \"Toolbox\") ---\n",
    "# An agent needs tools to interact with the world.\n",
    "# For this example, our agent's only tool is the Tavily search engine.\n",
    "tools = [TavilySearchResults(max_results=3)]\n",
    "\n",
    "# --- Step 4: The Prompt ---\n",
    "# The prompt is a special set of instructions that tells the LLM how to behave as an agent.\n",
    "# We pull a pre-built, high-quality prompt from the LangChain Hub to save time.\n",
    "prompt = hub.pull(\"hwchase17/react\")\n",
    "\n",
    "# --- Step 5: Create the Agent ---\n",
    "# This function combines the LLM, the tools, and the prompt into a runnable agent.\n",
    "agent = create_react_agent(llm, tools, prompt)\n",
    "\n",
    "# --- Step 6: The Agent Executor ---\n",
    "# The AgentExecutor is the runtime that makes the agent work.\n",
    "# It invokes the agent, calls the chosen tools, and passes the results back to the agent.\n",
    "# verbose=True is ESSENTIAL for understanding how the agent is \"thinking\".\n",
    "agent_executor = AgentExecutor(\n",
    "    agent=agent,\n",
    "    tools=tools,\n",
    "    verbose=True,\n",
    "    handle_parsing_errors=True  # <-- ADD THIS LINE\n",
    ")\n",
    "\n",
    "# --- Step 7: Run the Agent ---\n",
    "# Let's ask a question that requires up-to-date information\n",
    "response = agent_executor.invoke({\n",
    "    \"input\": \"What were some major headlines in India this week, in August 2025?\"\n",
    "})\n",
    "\n",
    "print(\"\\n--- FINAL ANSWER ---\")\n",
    "print(response['output'])"
   ]
  }
 ],
 "metadata": {
  "kernelspec": {
   "display_name": "Python 3",
   "language": "python",
   "name": "python3"
  },
  "language_info": {
   "codemirror_mode": {
    "name": "ipython",
    "version": 3
   },
   "file_extension": ".py",
   "mimetype": "text/x-python",
   "name": "python",
   "nbconvert_exporter": "python",
   "pygments_lexer": "ipython3",
   "version": "3.11.9"
  }
 },
 "nbformat": 4,
 "nbformat_minor": 5
}
